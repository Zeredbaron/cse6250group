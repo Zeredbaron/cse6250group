{
 "cells": [
  {
   "cell_type": "code",
   "execution_count": 3,
   "id": "improving-albany",
   "metadata": {},
   "outputs": [],
   "source": [
    "import requests"
   ]
  },
  {
   "cell_type": "code",
   "execution_count": 4,
   "id": "analyzed-cornell",
   "metadata": {},
   "outputs": [],
   "source": [
    "s = requests.Session()"
   ]
  },
  {
   "cell_type": "code",
   "execution_count": 6,
   "id": "conscious-continent",
   "metadata": {},
   "outputs": [
    {
     "data": {
      "application/vnd.jupyter.widget-view+json": {
       "model_id": "425fb7cb341e46449fdc3fd628741790",
       "version_major": 2,
       "version_minor": 0
      },
      "text/plain": [
       "IntProgress(value=0)"
      ]
     },
     "metadata": {},
     "output_type": "display_data"
    },
    {
     "name": "stdout",
     "output_type": "stream",
     "text": [
      "successfully downloaded file http://dataset.isr.uc.pt/ISRUC_Sleep/subgroupI/1.rar\n",
      "successfully downloaded file http://dataset.isr.uc.pt/ISRUC_Sleep/subgroupI/2.rar\n",
      "successfully downloaded file http://dataset.isr.uc.pt/ISRUC_Sleep/subgroupI/3.rar\n",
      "successfully downloaded file http://dataset.isr.uc.pt/ISRUC_Sleep/subgroupI/4.rar\n",
      "successfully downloaded file http://dataset.isr.uc.pt/ISRUC_Sleep/subgroupI/5.rar\n",
      "successfully downloaded file http://dataset.isr.uc.pt/ISRUC_Sleep/subgroupI/6.rar\n",
      "successfully downloaded file http://dataset.isr.uc.pt/ISRUC_Sleep/subgroupI/7.rar\n",
      "successfully downloaded file http://dataset.isr.uc.pt/ISRUC_Sleep/subgroupI/8.rar\n",
      "successfully downloaded file http://dataset.isr.uc.pt/ISRUC_Sleep/subgroupI/9.rar\n",
      "successfully downloaded file http://dataset.isr.uc.pt/ISRUC_Sleep/subgroupI/10.rar\n",
      "successfully downloaded file http://dataset.isr.uc.pt/ISRUC_Sleep/subgroupI/11.rar\n",
      "successfully downloaded file http://dataset.isr.uc.pt/ISRUC_Sleep/subgroupI/12.rar\n",
      "successfully downloaded file http://dataset.isr.uc.pt/ISRUC_Sleep/subgroupI/13.rar\n",
      "successfully downloaded file http://dataset.isr.uc.pt/ISRUC_Sleep/subgroupI/14.rar\n",
      "successfully downloaded file http://dataset.isr.uc.pt/ISRUC_Sleep/subgroupI/15.rar\n",
      "successfully downloaded file http://dataset.isr.uc.pt/ISRUC_Sleep/subgroupI/16.rar\n",
      "successfully downloaded file http://dataset.isr.uc.pt/ISRUC_Sleep/subgroupI/17.rar\n",
      "successfully downloaded file http://dataset.isr.uc.pt/ISRUC_Sleep/subgroupI/18.rar\n",
      "successfully downloaded file http://dataset.isr.uc.pt/ISRUC_Sleep/subgroupI/19.rar\n",
      "successfully downloaded file http://dataset.isr.uc.pt/ISRUC_Sleep/subgroupI/20.rar\n",
      "successfully downloaded file http://dataset.isr.uc.pt/ISRUC_Sleep/subgroupI/21.rar\n",
      "successfully downloaded file http://dataset.isr.uc.pt/ISRUC_Sleep/subgroupI/22.rar\n",
      "successfully downloaded file http://dataset.isr.uc.pt/ISRUC_Sleep/subgroupI/23.rar\n",
      "successfully downloaded file http://dataset.isr.uc.pt/ISRUC_Sleep/subgroupI/24.rar\n",
      "successfully downloaded file http://dataset.isr.uc.pt/ISRUC_Sleep/subgroupI/25.rar\n",
      "successfully downloaded file http://dataset.isr.uc.pt/ISRUC_Sleep/subgroupI/26.rar\n",
      "successfully downloaded file http://dataset.isr.uc.pt/ISRUC_Sleep/subgroupI/27.rar\n",
      "successfully downloaded file http://dataset.isr.uc.pt/ISRUC_Sleep/subgroupI/28.rar\n",
      "successfully downloaded file http://dataset.isr.uc.pt/ISRUC_Sleep/subgroupI/29.rar\n",
      "successfully downloaded file http://dataset.isr.uc.pt/ISRUC_Sleep/subgroupI/30.rar\n",
      "successfully downloaded file http://dataset.isr.uc.pt/ISRUC_Sleep/subgroupI/31.rar\n",
      "successfully downloaded file http://dataset.isr.uc.pt/ISRUC_Sleep/subgroupI/32.rar\n",
      "successfully downloaded file http://dataset.isr.uc.pt/ISRUC_Sleep/subgroupI/33.rar\n",
      "successfully downloaded file http://dataset.isr.uc.pt/ISRUC_Sleep/subgroupI/34.rar\n",
      "successfully downloaded file http://dataset.isr.uc.pt/ISRUC_Sleep/subgroupI/35.rar\n",
      "successfully downloaded file http://dataset.isr.uc.pt/ISRUC_Sleep/subgroupI/36.rar\n",
      "successfully downloaded file http://dataset.isr.uc.pt/ISRUC_Sleep/subgroupI/37.rar\n",
      "successfully downloaded file http://dataset.isr.uc.pt/ISRUC_Sleep/subgroupI/38.rar\n",
      "successfully downloaded file http://dataset.isr.uc.pt/ISRUC_Sleep/subgroupI/39.rar\n",
      "successfully downloaded file http://dataset.isr.uc.pt/ISRUC_Sleep/subgroupI/40.rar\n",
      "successfully downloaded file http://dataset.isr.uc.pt/ISRUC_Sleep/subgroupI/41.rar\n",
      "successfully downloaded file http://dataset.isr.uc.pt/ISRUC_Sleep/subgroupI/42.rar\n",
      "successfully downloaded file http://dataset.isr.uc.pt/ISRUC_Sleep/subgroupI/43.rar\n",
      "successfully downloaded file http://dataset.isr.uc.pt/ISRUC_Sleep/subgroupI/44.rar\n",
      "successfully downloaded file http://dataset.isr.uc.pt/ISRUC_Sleep/subgroupI/45.rar\n",
      "successfully downloaded file http://dataset.isr.uc.pt/ISRUC_Sleep/subgroupI/46.rar\n",
      "successfully downloaded file http://dataset.isr.uc.pt/ISRUC_Sleep/subgroupI/47.rar\n",
      "successfully downloaded file http://dataset.isr.uc.pt/ISRUC_Sleep/subgroupI/48.rar\n",
      "successfully downloaded file http://dataset.isr.uc.pt/ISRUC_Sleep/subgroupI/49.rar\n",
      "successfully downloaded file http://dataset.isr.uc.pt/ISRUC_Sleep/subgroupI/50.rar\n",
      "successfully downloaded file http://dataset.isr.uc.pt/ISRUC_Sleep/subgroupI/51.rar\n",
      "successfully downloaded file http://dataset.isr.uc.pt/ISRUC_Sleep/subgroupI/52.rar\n",
      "successfully downloaded file http://dataset.isr.uc.pt/ISRUC_Sleep/subgroupI/53.rar\n",
      "successfully downloaded file http://dataset.isr.uc.pt/ISRUC_Sleep/subgroupI/54.rar\n",
      "successfully downloaded file http://dataset.isr.uc.pt/ISRUC_Sleep/subgroupI/55.rar\n",
      "successfully downloaded file http://dataset.isr.uc.pt/ISRUC_Sleep/subgroupI/56.rar\n",
      "successfully downloaded file http://dataset.isr.uc.pt/ISRUC_Sleep/subgroupI/57.rar\n",
      "successfully downloaded file http://dataset.isr.uc.pt/ISRUC_Sleep/subgroupI/58.rar\n",
      "successfully downloaded file http://dataset.isr.uc.pt/ISRUC_Sleep/subgroupI/59.rar\n",
      "successfully downloaded file http://dataset.isr.uc.pt/ISRUC_Sleep/subgroupI/60.rar\n",
      "successfully downloaded file http://dataset.isr.uc.pt/ISRUC_Sleep/subgroupI/61.rar\n",
      "successfully downloaded file http://dataset.isr.uc.pt/ISRUC_Sleep/subgroupI/62.rar\n",
      "successfully downloaded file http://dataset.isr.uc.pt/ISRUC_Sleep/subgroupI/63.rar\n",
      "successfully downloaded file http://dataset.isr.uc.pt/ISRUC_Sleep/subgroupI/64.rar\n",
      "successfully downloaded file http://dataset.isr.uc.pt/ISRUC_Sleep/subgroupI/65.rar\n",
      "successfully downloaded file http://dataset.isr.uc.pt/ISRUC_Sleep/subgroupI/66.rar\n",
      "successfully downloaded file http://dataset.isr.uc.pt/ISRUC_Sleep/subgroupI/67.rar\n",
      "successfully downloaded file http://dataset.isr.uc.pt/ISRUC_Sleep/subgroupI/68.rar\n",
      "successfully downloaded file http://dataset.isr.uc.pt/ISRUC_Sleep/subgroupI/69.rar\n",
      "successfully downloaded file http://dataset.isr.uc.pt/ISRUC_Sleep/subgroupI/70.rar\n",
      "successfully downloaded file http://dataset.isr.uc.pt/ISRUC_Sleep/subgroupI/71.rar\n",
      "successfully downloaded file http://dataset.isr.uc.pt/ISRUC_Sleep/subgroupI/72.rar\n",
      "successfully downloaded file http://dataset.isr.uc.pt/ISRUC_Sleep/subgroupI/73.rar\n",
      "successfully downloaded file http://dataset.isr.uc.pt/ISRUC_Sleep/subgroupI/74.rar\n",
      "successfully downloaded file http://dataset.isr.uc.pt/ISRUC_Sleep/subgroupI/75.rar\n",
      "successfully downloaded file http://dataset.isr.uc.pt/ISRUC_Sleep/subgroupI/76.rar\n",
      "successfully downloaded file http://dataset.isr.uc.pt/ISRUC_Sleep/subgroupI/77.rar\n",
      "successfully downloaded file http://dataset.isr.uc.pt/ISRUC_Sleep/subgroupI/78.rar\n",
      "successfully downloaded file http://dataset.isr.uc.pt/ISRUC_Sleep/subgroupI/79.rar\n",
      "successfully downloaded file http://dataset.isr.uc.pt/ISRUC_Sleep/subgroupI/80.rar\n",
      "successfully downloaded file http://dataset.isr.uc.pt/ISRUC_Sleep/subgroupI/81.rar\n",
      "successfully downloaded file http://dataset.isr.uc.pt/ISRUC_Sleep/subgroupI/82.rar\n",
      "successfully downloaded file http://dataset.isr.uc.pt/ISRUC_Sleep/subgroupI/83.rar\n",
      "successfully downloaded file http://dataset.isr.uc.pt/ISRUC_Sleep/subgroupI/84.rar\n",
      "successfully downloaded file http://dataset.isr.uc.pt/ISRUC_Sleep/subgroupI/85.rar\n",
      "successfully downloaded file http://dataset.isr.uc.pt/ISRUC_Sleep/subgroupI/86.rar\n",
      "successfully downloaded file http://dataset.isr.uc.pt/ISRUC_Sleep/subgroupI/87.rar\n",
      "successfully downloaded file http://dataset.isr.uc.pt/ISRUC_Sleep/subgroupI/88.rar\n",
      "successfully downloaded file http://dataset.isr.uc.pt/ISRUC_Sleep/subgroupI/89.rar\n",
      "successfully downloaded file http://dataset.isr.uc.pt/ISRUC_Sleep/subgroupI/90.rar\n",
      "successfully downloaded file http://dataset.isr.uc.pt/ISRUC_Sleep/subgroupI/91.rar\n",
      "successfully downloaded file http://dataset.isr.uc.pt/ISRUC_Sleep/subgroupI/92.rar\n",
      "successfully downloaded file http://dataset.isr.uc.pt/ISRUC_Sleep/subgroupI/93.rar\n",
      "successfully downloaded file http://dataset.isr.uc.pt/ISRUC_Sleep/subgroupI/94.rar\n",
      "successfully downloaded file http://dataset.isr.uc.pt/ISRUC_Sleep/subgroupI/95.rar\n",
      "successfully downloaded file http://dataset.isr.uc.pt/ISRUC_Sleep/subgroupI/96.rar\n",
      "successfully downloaded file http://dataset.isr.uc.pt/ISRUC_Sleep/subgroupI/97.rar\n",
      "successfully downloaded file http://dataset.isr.uc.pt/ISRUC_Sleep/subgroupI/98.rar\n",
      "successfully downloaded file http://dataset.isr.uc.pt/ISRUC_Sleep/subgroupI/99.rar\n",
      "successfully downloaded file http://dataset.isr.uc.pt/ISRUC_Sleep/subgroupI/100.rar\n"
     ]
    }
   ],
   "source": [
    "\n",
    "for patient_id in range(1,101):\n",
    "    f.value = patient_id\n",
    "    src = f\"http://dataset.isr.uc.pt/ISRUC_Sleep/subgroupI/{patient_id}.rar\"\n",
    "    with s.get(src, stream=True) as r:\n",
    "        with open(f\"../data/isruc-sleep/subgroupI/{patient_id}.rar\",\"wb\") as f:\n",
    "            for chunk in r.iter_content(chunk_size=16*1024):\n",
    "                f.write(chunk)\n",
    "    print(f\"successfully downloaded file {src}\")"
   ]
  },
  {
   "cell_type": "code",
   "execution_count": 9,
   "id": "actual-armenia",
   "metadata": {},
   "outputs": [
    {
     "name": "stdout",
     "output_type": "stream",
     "text": [
      "successfully downloaded file http://dataset.isr.uc.pt/ISRUC_Sleep/subgroupII/1.rar\n",
      "successfully downloaded file http://dataset.isr.uc.pt/ISRUC_Sleep/subgroupII/2.rar\n",
      "successfully downloaded file http://dataset.isr.uc.pt/ISRUC_Sleep/subgroupII/3.rar\n",
      "successfully downloaded file http://dataset.isr.uc.pt/ISRUC_Sleep/subgroupII/4.rar\n",
      "successfully downloaded file http://dataset.isr.uc.pt/ISRUC_Sleep/subgroupII/5.rar\n",
      "successfully downloaded file http://dataset.isr.uc.pt/ISRUC_Sleep/subgroupII/6.rar\n",
      "successfully downloaded file http://dataset.isr.uc.pt/ISRUC_Sleep/subgroupII/7.rar\n",
      "successfully downloaded file http://dataset.isr.uc.pt/ISRUC_Sleep/subgroupII/8.rar\n"
     ]
    }
   ],
   "source": [
    "for patient_id in range(1,9):\n",
    "    src = f\"http://dataset.isr.uc.pt/ISRUC_Sleep/subgroupII/{patient_id}.rar\"\n",
    "    with s.get(src, stream=True) as r:\n",
    "        with open(f\"../data/isruc-sleep/subgroupII/{patient_id}.rar\",\"wb\") as f:\n",
    "            for chunk in r.iter_content(chunk_size=16*1024):\n",
    "                f.write(chunk)\n",
    "    print(f\"successfully downloaded file {src}\")"
   ]
  },
  {
   "cell_type": "code",
   "execution_count": 12,
   "id": "mature-membrane",
   "metadata": {},
   "outputs": [
    {
     "name": "stdout",
     "output_type": "stream",
     "text": [
      "successfully downloaded file http://dataset.isr.uc.pt/ISRUC_Sleep/subgroupIII/1.rar\n",
      "successfully downloaded file http://dataset.isr.uc.pt/ISRUC_Sleep/subgroupIII/2.rar\n",
      "successfully downloaded file http://dataset.isr.uc.pt/ISRUC_Sleep/subgroupIII/3.rar\n",
      "successfully downloaded file http://dataset.isr.uc.pt/ISRUC_Sleep/subgroupIII/4.rar\n",
      "successfully downloaded file http://dataset.isr.uc.pt/ISRUC_Sleep/subgroupIII/5.rar\n",
      "successfully downloaded file http://dataset.isr.uc.pt/ISRUC_Sleep/subgroupIII/6.rar\n",
      "successfully downloaded file http://dataset.isr.uc.pt/ISRUC_Sleep/subgroupIII/7.rar\n",
      "successfully downloaded file http://dataset.isr.uc.pt/ISRUC_Sleep/subgroupIII/8.rar\n",
      "successfully downloaded file http://dataset.isr.uc.pt/ISRUC_Sleep/subgroupIII/9.rar\n",
      "successfully downloaded file http://dataset.isr.uc.pt/ISRUC_Sleep/subgroupIII/10.rar\n"
     ]
    }
   ],
   "source": [
    "\n",
    "for patient_id in range(1,11):\n",
    "    src = f\"http://dataset.isr.uc.pt/ISRUC_Sleep/subgroupIII/{patient_id}.rar\"\n",
    "    with s.get(src, stream=True) as r:\n",
    "        with open(f\"../data/isruc-sleep/subgroupIII/{patient_id}.rar\",\"wb\") as f:\n",
    "            for chunk in r.iter_content(chunk_size=16*1024):\n",
    "                f.write(chunk)\n",
    "    print(f\"successfully downloaded file {src}\")"
   ]
  },
  {
   "cell_type": "code",
   "execution_count": 15,
   "id": "continuing-domain",
   "metadata": {},
   "outputs": [
    {
     "name": "stdout",
     "output_type": "stream",
     "text": [
      "successfully got sleep-edf files\n"
     ]
    }
   ],
   "source": [
    "import subprocess\n",
    "test = subprocess.run([\"wget\",\"-r\",\"-N\",\"-c\", \"-np\", \"https://physionet.org/files/sleep-edfx/1.0.0/\"], cwd=\"../data/Sleep-EDF\")\n",
    "print(f\"successfully got sleep-edf files\")"
   ]
  },
  {
   "cell_type": "code",
   "execution_count": 1,
   "id": "lined-eating",
   "metadata": {},
   "outputs": [],
   "source": [
    "from pyunpack import Archive"
   ]
  },
  {
   "cell_type": "code",
   "execution_count": 3,
   "id": "unavailable-delicious",
   "metadata": {},
   "outputs": [
    {
     "ename": "PatoolError",
     "evalue": "patool can not unpack\npatool error: error extracting /Users/wallychang/Documents/cse6250group/data/isruc-sleep/subgroupI/1.rar: could not find an executable program to extract format rar; candidates are (rar,unrar,7z),",
     "output_type": "error",
     "traceback": [
      "\u001b[0;31m---------------------------------------------------------------------------\u001b[0m",
      "\u001b[0;31mPatoolError\u001b[0m                               Traceback (most recent call last)",
      "\u001b[0;32m<ipython-input-3-625f34e31de2>\u001b[0m in \u001b[0;36m<module>\u001b[0;34m\u001b[0m\n\u001b[0;32m----> 1\u001b[0;31m \u001b[0mArchive\u001b[0m\u001b[0;34m(\u001b[0m\u001b[0;34m'../data/isruc-sleep/subgroupI/1.rar'\u001b[0m\u001b[0;34m)\u001b[0m\u001b[0;34m.\u001b[0m\u001b[0mextractall\u001b[0m\u001b[0;34m(\u001b[0m\u001b[0;34m'../data/isruc-sleep/subgroupI/'\u001b[0m\u001b[0;34m)\u001b[0m\u001b[0;34m\u001b[0m\u001b[0;34m\u001b[0m\u001b[0m\n\u001b[0m",
      "\u001b[0;32m/usr/local/anaconda3/envs/py39/lib/python3.9/site-packages/pyunpack/__init__.py\u001b[0m in \u001b[0;36mextractall\u001b[0;34m(self, directory, auto_create_dir, patool_path)\u001b[0m\n\u001b[1;32m     92\u001b[0m                 \u001b[0mself\u001b[0m\u001b[0;34m.\u001b[0m\u001b[0mextractall_zipfile\u001b[0m\u001b[0;34m(\u001b[0m\u001b[0mdirectory\u001b[0m\u001b[0;34m)\u001b[0m\u001b[0;34m\u001b[0m\u001b[0;34m\u001b[0m\u001b[0m\n\u001b[1;32m     93\u001b[0m             \u001b[0;32melse\u001b[0m\u001b[0;34m:\u001b[0m\u001b[0;34m\u001b[0m\u001b[0;34m\u001b[0m\u001b[0m\n\u001b[0;32m---> 94\u001b[0;31m                 \u001b[0mself\u001b[0m\u001b[0;34m.\u001b[0m\u001b[0mextractall_patool\u001b[0m\u001b[0;34m(\u001b[0m\u001b[0mdirectory\u001b[0m\u001b[0;34m,\u001b[0m \u001b[0mpatool_path\u001b[0m\u001b[0;34m)\u001b[0m\u001b[0;34m\u001b[0m\u001b[0;34m\u001b[0m\u001b[0m\n\u001b[0m\u001b[1;32m     95\u001b[0m \u001b[0;34m\u001b[0m\u001b[0m\n\u001b[1;32m     96\u001b[0m         \u001b[0;32mif\u001b[0m \u001b[0mself\u001b[0m\u001b[0;34m.\u001b[0m\u001b[0mbackend\u001b[0m \u001b[0;34m==\u001b[0m \u001b[0;34m\"zipfile\"\u001b[0m\u001b[0;34m:\u001b[0m\u001b[0;34m\u001b[0m\u001b[0;34m\u001b[0m\u001b[0m\n",
      "\u001b[0;32m/usr/local/anaconda3/envs/py39/lib/python3.9/site-packages/pyunpack/__init__.py\u001b[0m in \u001b[0;36mextractall_patool\u001b[0;34m(self, directory, patool_path)\u001b[0m\n\u001b[1;32m     63\u001b[0m             \u001b[0;32mraise\u001b[0m \u001b[0mPatoolError\u001b[0m\u001b[0;34m(\u001b[0m\u001b[0;34m\"patool timeout\\n\"\u001b[0m \u001b[0;34m+\u001b[0m \u001b[0mstr\u001b[0m\u001b[0;34m(\u001b[0m\u001b[0mp\u001b[0m\u001b[0;34m.\u001b[0m\u001b[0mstdout\u001b[0m\u001b[0;34m)\u001b[0m \u001b[0;34m+\u001b[0m \u001b[0;34m\"\\n\"\u001b[0m \u001b[0;34m+\u001b[0m \u001b[0mstr\u001b[0m\u001b[0;34m(\u001b[0m\u001b[0mp\u001b[0m\u001b[0;34m.\u001b[0m\u001b[0mstderr\u001b[0m\u001b[0;34m)\u001b[0m\u001b[0;34m)\u001b[0m\u001b[0;34m\u001b[0m\u001b[0;34m\u001b[0m\u001b[0m\n\u001b[1;32m     64\u001b[0m         \u001b[0;32mif\u001b[0m \u001b[0mp\u001b[0m\u001b[0;34m.\u001b[0m\u001b[0mreturn_code\u001b[0m\u001b[0;34m:\u001b[0m\u001b[0;34m\u001b[0m\u001b[0;34m\u001b[0m\u001b[0m\n\u001b[0;32m---> 65\u001b[0;31m             \u001b[0;32mraise\u001b[0m \u001b[0mPatoolError\u001b[0m\u001b[0;34m(\u001b[0m\u001b[0;34m\"patool can not unpack\\n\"\u001b[0m \u001b[0;34m+\u001b[0m \u001b[0mstr\u001b[0m\u001b[0;34m(\u001b[0m\u001b[0mp\u001b[0m\u001b[0;34m.\u001b[0m\u001b[0mstderr\u001b[0m\u001b[0;34m)\u001b[0m\u001b[0;34m)\u001b[0m\u001b[0;34m\u001b[0m\u001b[0;34m\u001b[0m\u001b[0m\n\u001b[0m\u001b[1;32m     66\u001b[0m \u001b[0;34m\u001b[0m\u001b[0m\n\u001b[1;32m     67\u001b[0m     \u001b[0;32mdef\u001b[0m \u001b[0mextractall_zipfile\u001b[0m\u001b[0;34m(\u001b[0m\u001b[0mself\u001b[0m\u001b[0;34m,\u001b[0m \u001b[0mdirectory\u001b[0m\u001b[0;34m)\u001b[0m\u001b[0;34m:\u001b[0m\u001b[0;34m\u001b[0m\u001b[0;34m\u001b[0m\u001b[0m\n",
      "\u001b[0;31mPatoolError\u001b[0m: patool can not unpack\npatool error: error extracting /Users/wallychang/Documents/cse6250group/data/isruc-sleep/subgroupI/1.rar: could not find an executable program to extract format rar; candidates are (rar,unrar,7z),"
     ]
    }
   ],
   "source": [
    "Archive('../data/isruc-sleep/subgroupI/1.rar').extractall('../data/isruc-sleep/subgroupI/')"
   ]
  },
  {
   "cell_type": "code",
   "execution_count": null,
   "id": "tribal-windsor",
   "metadata": {},
   "outputs": [],
   "source": []
  }
 ],
 "metadata": {
  "kernelspec": {
   "display_name": "py39",
   "language": "python",
   "name": "py39"
  },
  "language_info": {
   "codemirror_mode": {
    "name": "ipython",
    "version": 3
   },
   "file_extension": ".py",
   "mimetype": "text/x-python",
   "name": "python",
   "nbconvert_exporter": "python",
   "pygments_lexer": "ipython3",
   "version": "3.9.1"
  }
 },
 "nbformat": 4,
 "nbformat_minor": 5
}
