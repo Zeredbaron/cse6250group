{
 "cells": [
  {
   "cell_type": "code",
   "execution_count": 16,
   "metadata": {},
   "outputs": [],
   "source": [
    "#read and pivot data into appropriate shape\n",
    "\n",
    "import pandas as pd\n",
    "\n",
    "data = pd.read_csv('shhs1-hrv-5min-0.15.0.csv')\n",
    "df = data.melt(id_vars = ['nsrrid','Start__sec_'], var_name = '30_sec_interval', value_name = 'sleep_stage')\n",
    "df ['sleep_stage'] = df['sleep_stage'].replace({0: 0, 1: 1, 2: 2, 3: 3, 4: 3, 5: 5, 9: 0})\n",
    "df['30_sec_interval'] = df['30_sec_interval'].astype(int)\n",
    "df['epoch'] = df['Start__sec_'] + df['30_sec_interval'].astype(int)\n",
    "df['session'] = 1\n",
    "\n",
    "\n",
    "data2 = pd.read_csv('shhs2-hrv-5min-0.15.0.csv')\n",
    "df2 = data2.melt(id_vars = ['nsrrid','Start__sec_'], var_name = '30_sec_interval', value_name = 'sleep_stage')\n",
    "df2['sleep_stage'] = df2['sleep_stage'].replace({0: 0, 1: 1, 2: 2, 3: 3, 4: 3, 5: 5, 9: 0})\n",
    "df2['30_sec_interval'] = df2['30_sec_interval'].astype(int)\n",
    "df2['epoch'] = df2['Start__sec_'] + df2['30_sec_interval'].astype(int)\n",
    "df2['session'] = 2\n",
    "\n",
    "\n",
    "final = pd.concat([df, df2])\n",
    "\n",
    "final.to_csv('cleaned_sleep_stage_data.csv')\n",
    "\n",
    "\n",
    "\n"
   ]
  },
  {
   "cell_type": "code",
   "execution_count": 47,
   "metadata": {},
   "outputs": [],
   "source": [
    "#group data into sleep instances\n",
    "import pandas as pd \n",
    "sleep_stage_data = pd.read_csv('cleaned_sleep_stage_data.csv')\n",
    "sleep_stage_data = sleep_stage_data[['nsrrid','session','epoch','sleep_stage']]\n",
    "sleep_stage_data = sleep_stage_data.groupby(['nsrrid','session','sleep_stage']).count()\n",
    "sleep_stage_data = sleep_stage_data.reset_index()\n",
    "sleep_pivot = sleep_stage_data.pivot_table(index=['nsrrid','session'], columns='sleep_stage', values='epoch')\n",
    "sleep_pivot = sleep_pivot.reset_index()\n",
    "\n",
    "\n",
    "sleep_pivot['total_stage'] = sleep_pivot[0] + sleep_pivot[1] + sleep_pivot[2] + sleep_pivot[3] + sleep_pivot[5]\n",
    "sleep_pivot['w%'] = sleep_pivot[0]/sleep_pivot['total_stage']*100\n",
    "sleep_pivot['n1%'] = sleep_pivot[1]/sleep_pivot['total_stage']*100\n",
    "sleep_pivot['n2%'] = sleep_pivot[2]/sleep_pivot['total_stage']*100\n",
    "sleep_pivot['n3%'] = sleep_pivot[3]/sleep_pivot['total_stage']*100\n",
    "sleep_pivot['rem%'] = sleep_pivot[5]/sleep_pivot['total_stage']*100\n",
    "\n",
    "\n",
    "\n",
    "\n"
   ]
  },
  {
   "cell_type": "code",
   "execution_count": 71,
   "metadata": {},
   "outputs": [],
   "source": [
    "#join incremental patient data\n",
    "\n",
    "supplement1 = pd.DataFrame(pd.read_csv('shhs1-dataset-0.15.0.csv', encoding='cp1252'))\n",
    "supplement1 = supplement1.rename(columns=str.lower)\n",
    "supplement1 = supplement1[['nsrrid', 'age_s1', 'gender', 'race','bp_s1', 'date25', 'gh_s1', 'mcs_s1', 'mh_s1', 'pcs_s1', 'pf_s1', 'genhth25', 'cmp1yr25', 'vigact25', 'modact25', 'lift25', 'climbs25', 'climb125', 'bend25', 'wk1ml25', 'wksblk25', 'wk1blk25', 'bathe25', 'phctdn25', 'phacls25', 'limit25', 'exefrt25', 'emctdn25', 'emacls25', 'carful25', 'probsa25', 'bdpain25', 'painin25', 'pep25', 'nrvous25', 'down25', 'calm25', 'energ25', 'blue25', 'worn25', 'happy25', 'tired25', 'hlthlm25', 'sickez25', 'hlthy25', 'worse25', 'exclnt25', 'rawbp_s1', 'rawgh_s1', 'rawmh_s1', 'rawpf_s1', 'rawre_s1', 'rawrp_s1', 'rawsf_s1', 'rawvt_s1', 're_s1', 'rp_s1', 'sf_s1', 'vt_s1']]\n",
    "\n",
    "supplement2 = pd.read_csv('shhs2-dataset-0.15.0.csv', encoding='cp1252')\n",
    "supplement2 = supplement2.rename(columns=str.lower)\n",
    "supplement2 = supplement2[['nsrrid', 'age_s2', 'gender', 'race','bp_s2', 'formdate_ql', 'gh_s2', 'mcs_s2', 'mh_s2', 'pcs_s2', 'pf_s2', 'ql201', 'ql202', 'ql203a', 'ql203b', 'ql203c', 'ql203d', 'ql203e', 'ql203f', 'ql203g', 'ql203h', 'ql203i', 'ql203j', 'ql204a', 'ql204b', 'ql204c', 'ql204d', 'ql205a', 'ql205b', 'ql205c', 'ql206', 'ql207', 'ql208', 'ql209a', 'ql209b', 'ql209c', 'ql209d', 'ql209e', 'ql209f', 'ql209g', 'ql209h', 'ql209i', 'ql210', 'ql211a', 'ql211b', 'ql211c', 'ql211d', 'rawbp_s2', 'rawgh_s2', 'rawmh_s2', 'rawpf_s2', 'rawre_s2', 'rawrp_s2', 'rawsf_s2', 'rawvt_s2', 're_s2', 'rp_s2', 'sf_s2', 'vt_s2']]\n",
    "\n",
    "sleep_sess_1 = sleep_pivot.loc[sleep_pivot['session'] == 1]\n",
    "sleep_sess_2 = sleep_pivot.loc[sleep_pivot['session'] == 2]\n",
    "\n",
    "sleep_sess_1 = sleep_sess_1.merge(supplement1, how='inner', on = 'nsrrid')\n",
    "sleep_sess_2 = sleep_sess_2.merge(supplement2, how='inner', on = 'nsrrid')\n",
    "\n",
    "sleep_sess_1 = sleep_sess_1.rename(columns={'bp_s1': 'bp_s2', 'date25': 'formdate_ql', 'gh_s1': 'gh_s2', 'mcs_s1': 'mcs_s2', 'mh_s1': 'mh_s2', 'pcs_s1': 'pcs_s2', 'pf_s1': 'pf_s2', 'genhth25': 'ql201', 'cmp1yr25': 'ql202', 'vigact25': 'ql203a', 'modact25': 'ql203b', 'lift25': 'ql203c', 'climbs25': 'ql203d', 'climb125': 'ql203e', 'bend25': 'ql203f', 'wk1ml25': 'ql203g', 'wksblk25': 'ql203h', 'wk1blk25': 'ql203i', 'bathe25': 'ql203j', 'phctdn25': 'ql204a', 'phacls25': 'ql204b', 'limit25': 'ql204c', 'exefrt25': 'ql204d', 'emctdn25': 'ql205a', 'emacls25': 'ql205b', 'carful25': 'ql205c', 'probsa25': 'ql206', 'bdpain25': 'ql207', 'painin25': 'ql208', 'pep25': 'ql209a', 'nrvous25': 'ql209b', 'down25': 'ql209c', 'calm25': 'ql209d', 'energ25': 'ql209e', 'blue25': 'ql209f', 'worn25': 'ql209g', 'happy25': 'ql209h', 'tired25': 'ql209i', 'hlthlm25': 'ql210', 'sickez25': 'ql211a', 'hlthy25': 'ql211b', 'worse25': 'ql211c', 'exclnt25': 'ql211d', 'rawbp_s1': 'rawbp_s2', 'rawgh_s1': 'rawgh_s2', 'rawmh_s1': 'rawmh_s2', 'rawpf_s1': 'rawpf_s2', 'rawre_s1': 'rawre_s2', 'rawrp_s1': 'rawrp_s2', 'rawsf_s1': 'rawsf_s2', 'rawvt_s1': 'rawvt_s2', 're_s1': 're_s2', 'rp_s1': 'rp_s2', 'sf_s1': 'sf_s2', 'vt_s1': 'vt_s2'})\n",
    "\n",
    "final_sess = pd.concat([sleep_sess_1, sleep_sess_2])\n",
    "final_sess.to_csv('aggregated_sleep_data.csv')"
   ]
  }
 ],
 "metadata": {
  "kernelspec": {
   "display_name": "Python 3",
   "language": "python",
   "name": "python3"
  },
  "language_info": {
   "codemirror_mode": {
    "name": "ipython",
    "version": 3
   },
   "file_extension": ".py",
   "mimetype": "text/x-python",
   "name": "python",
   "nbconvert_exporter": "python",
   "pygments_lexer": "ipython3",
   "version": "3.8.3"
  }
 },
 "nbformat": 4,
 "nbformat_minor": 4
}
